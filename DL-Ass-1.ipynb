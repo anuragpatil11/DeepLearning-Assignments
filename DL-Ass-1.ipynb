{
 "cells": [
  {
   "cell_type": "code",
   "execution_count": 1,
   "id": "fec09525-a301-41f3-b9c6-0fb524629272",
   "metadata": {},
   "outputs": [],
   "source": [
    "# TENSORFLOW\n",
    "import tensorflow as tf\n",
    "import numpy as np"
   ]
  },
  {
   "cell_type": "code",
   "execution_count": 2,
   "id": "ba5b9053-e12c-4c22-994d-6fccae326519",
   "metadata": {},
   "outputs": [
    {
     "name": "stdout",
     "output_type": "stream",
     "text": [
      "tf.Tensor(300, shape=(), dtype=int32)\n"
     ]
    }
   ],
   "source": [
    "a=tf.constant(15)\n",
    "b=tf.constant(20)\n",
    "print(a*b)"
   ]
  },
  {
   "cell_type": "code",
   "execution_count": 3,
   "id": "29f344c3-2893-4513-bee6-d70d95be5dc2",
   "metadata": {},
   "outputs": [
    {
     "name": "stdout",
     "output_type": "stream",
     "text": [
      "[0.6255894  0.76211894 0.4923908  0.5984841  0.43553367 0.86361814\n",
      " 0.5258384  0.37507215 0.2786291  0.7880572  0.6691819  0.6044925\n",
      " 0.39970753 0.9344519  0.6262323  0.34627104 0.90268314 0.6361491\n",
      " 0.6846697  0.6586219  0.18961722 0.98863024 0.33329657 0.5982643\n",
      " 0.50581175 0.8394036  0.08170426 0.915101   0.49758214 0.42208257\n",
      " 0.42355785 0.04261615 0.46261802 0.9285579  0.4797071  0.6023995\n",
      " 0.07636965 0.16722144 0.3908249  0.20535909 0.6936247  0.37095916\n",
      " 0.10640281 0.42078808 0.15860353 0.15050113 0.39302424 0.40298757\n",
      " 0.4360927  0.8152559  0.9742102  0.28507593 0.14162315 0.11221021\n",
      " 0.44589218 0.09234221 0.95445955 0.45937943 0.5288144  0.60429144\n",
      " 0.48132417 0.1873742  0.7929383  0.7896797  0.12404459 0.39618376\n",
      " 0.49186137 0.5406069  0.00939533 0.63355    0.1452465  0.8707016\n",
      " 0.7951499  0.62605727 0.18518063 0.73761857 0.8757402  0.31258026\n",
      " 0.99742395 0.33613566 0.507949   0.5657874  0.41976994 0.89915437\n",
      " 0.4265355  0.41291788 0.28061143 0.99488556 0.71508205 0.392934\n",
      " 0.34875318 0.16386615 0.8185471  0.76765555 0.01196546 0.32498705\n",
      " 0.28058293 0.14504112 0.7315367  0.2599269 ]\n"
     ]
    }
   ],
   "source": [
    "x=np.random.rand(100).astype(np.float32)\n",
    "print(x)"
   ]
  },
  {
   "cell_type": "code",
   "execution_count": 4,
   "id": "5413837a-aca0-4d00-8e8a-75082e1ea00b",
   "metadata": {},
   "outputs": [],
   "source": [
    "y=0.2*x+0.2"
   ]
  },
  {
   "cell_type": "code",
   "execution_count": 5,
   "id": "5f7dec21-2833-4bd1-a615-812ee1813153",
   "metadata": {},
   "outputs": [],
   "source": [
    "W=tf.Variable(tf.random.normal([1]))"
   ]
  },
  {
   "cell_type": "code",
   "execution_count": 6,
   "id": "9d1430ae-129a-4d09-bc81-534e4bf3d868",
   "metadata": {},
   "outputs": [],
   "source": [
    "b=tf.Variable(tf.zeros([1]))"
   ]
  },
  {
   "cell_type": "code",
   "execution_count": 7,
   "id": "f6ed09b2-0b73-4098-aca4-66ef48513a4c",
   "metadata": {},
   "outputs": [],
   "source": [
    "def mse_loss():\n",
    "    y_pred=W*x+b\n",
    "    loss=tf.reduce_mean(tf.square(y_pred-y))\n",
    "    return loss"
   ]
  },
  {
   "cell_type": "code",
   "execution_count": 8,
   "id": "95bcbd72-661e-4eef-b4cc-c90d78962fe7",
   "metadata": {},
   "outputs": [],
   "source": [
    "optimizer=tf.optimizers.Adam()"
   ]
  },
  {
   "cell_type": "code",
   "execution_count": 12,
   "id": "e6f2cf5d-efab-4cf9-a4a6-053812f2beea",
   "metadata": {},
   "outputs": [
    {
     "name": "stdout",
     "output_type": "stream",
     "text": [
      "0 [2.0605392] [-0.00099999]\n",
      "500 [1.6612548] [-0.36247945]\n",
      "1000 [1.4352438] [-0.43183473]\n",
      "1500 [1.257383] [-0.3602431]\n",
      "2000 [1.0690656] [-0.2605003]\n",
      "2500 [0.8748727] [-0.15704107]\n",
      "3000 [0.68904734] [-0.0583755]\n",
      "3500 [0.52493] [0.0285081]\n",
      "4000 [0.39306283] [0.09817103]\n",
      "4500 [0.29914072] [0.14772618]\n"
     ]
    }
   ],
   "source": [
    "for step in range(5000):\n",
    "    with tf.GradientTape() as tape:\n",
    "        loss = mse_loss()  # Call your loss function here\n",
    "\n",
    "    # Compute gradients of loss with respect to variables [W, b]\n",
    "    gradients = tape.gradient(loss, [W, b])\n",
    "\n",
    "    # Apply gradients to update W and b\n",
    "    optimizer.apply_gradients(zip(gradients, [W, b]))\n",
    "\n",
    "    # Print the progress every 500 steps\n",
    "    if step % 500 == 0:\n",
    "        print(step, W.numpy(), b.numpy())"
   ]
  },
  {
   "cell_type": "code",
   "execution_count": 13,
   "id": "db7e2bfe-14d6-42d8-8393-233b146167d2",
   "metadata": {},
   "outputs": [],
   "source": [
    "# PYTORCH\n",
    "import torch\n",
    "import numpy as np"
   ]
  },
  {
   "cell_type": "code",
   "execution_count": 15,
   "id": "1ace4b42-f677-4488-a88a-9d9da7a81cfb",
   "metadata": {},
   "outputs": [
    {
     "name": "stdout",
     "output_type": "stream",
     "text": [
      "<class 'torch.Tensor'>\n"
     ]
    }
   ],
   "source": [
    "data = [\n",
    "[1,2],\n",
    "[3,4]\n",
    "]\n",
    "x_data = torch.tensor(data)\n",
    "print(type(x_data))"
   ]
  },
  {
   "cell_type": "code",
   "execution_count": 16,
   "id": "f11ef1af-7b9e-4fdf-a99c-f4a6a40c19c7",
   "metadata": {},
   "outputs": [],
   "source": [
    "np_array = np.array(data)\n",
    "x_np = torch.from_numpy(np_array)"
   ]
  },
  {
   "cell_type": "code",
   "execution_count": 17,
   "id": "ae4d778c-2c2f-4ee2-8f88-63fe707cdae4",
   "metadata": {},
   "outputs": [
    {
     "name": "stdout",
     "output_type": "stream",
     "text": [
      "tensor([[1, 2],\n",
      "        [3, 4]], dtype=torch.int32)\n"
     ]
    }
   ],
   "source": [
    "print(x_np)\n"
   ]
  },
  {
   "cell_type": "code",
   "execution_count": 18,
   "id": "212157f5-a251-4bed-9a44-a17b531048fa",
   "metadata": {},
   "outputs": [
    {
     "name": "stdout",
     "output_type": "stream",
     "text": [
      "<class 'torch.Tensor'>\n"
     ]
    }
   ],
   "source": [
    "print(type(x_np))"
   ]
  },
  {
   "cell_type": "code",
   "execution_count": 19,
   "id": "9fae4fe0-1760-4e90-b9fa-a191b35e4ec6",
   "metadata": {},
   "outputs": [
    {
     "name": "stdout",
     "output_type": "stream",
     "text": [
      "One Tensor: \n",
      " tensor([[1, 1],\n",
      "        [1, 1]])\n"
     ]
    }
   ],
   "source": [
    "x_ones = torch.ones_like(x_data)\n",
    "print(\"One Tensor: \\n\",x_ones)\n"
   ]
  },
  {
   "cell_type": "code",
   "execution_count": 20,
   "id": "c7b4e535-02e1-4d15-bd95-c783a73ca5c6",
   "metadata": {},
   "outputs": [
    {
     "name": "stdout",
     "output_type": "stream",
     "text": [
      "tensor([[0.6665, 0.5033],\n",
      "        [0.6944, 0.0262]])\n"
     ]
    }
   ],
   "source": [
    "x_rand = torch.rand_like(x_data,dtype=torch.float)\n",
    "print(x_rand)"
   ]
  },
  {
   "cell_type": "code",
   "execution_count": 21,
   "id": "d1fbeb18-361c-49e4-a29d-29d189e9a877",
   "metadata": {},
   "outputs": [
    {
     "name": "stdout",
     "output_type": "stream",
     "text": [
      "tensor([[0.7573, 0.7606, 0.3027],\n",
      "        [0.1259, 0.8803, 0.1669]])\n",
      "<class 'torch.Tensor'>\n"
     ]
    }
   ],
   "source": [
    "shape = (2,3)\n",
    "random_tensor = torch.rand(shape)\n",
    "print(random_tensor)\n",
    "print(type(random_tensor))"
   ]
  },
  {
   "cell_type": "code",
   "execution_count": 22,
   "id": "664a5adc-2055-49a6-84c1-9db137937483",
   "metadata": {},
   "outputs": [
    {
     "name": "stdout",
     "output_type": "stream",
     "text": [
      "tensor([[1., 1., 1.],\n",
      "        [1., 1., 1.]])\n",
      "<class 'torch.Tensor'>\n"
     ]
    }
   ],
   "source": [
    "ones_tensor = torch.ones(shape)\n",
    "print(ones_tensor)\n",
    "print(type(ones_tensor))"
   ]
  },
  {
   "cell_type": "code",
   "execution_count": 23,
   "id": "9b089367-edf0-4088-9943-fc0b337a276e",
   "metadata": {},
   "outputs": [
    {
     "name": "stdout",
     "output_type": "stream",
     "text": [
      "tensor([[0., 0., 0.],\n",
      "        [0., 0., 0.]])\n",
      "<class 'torch.Tensor'>\n"
     ]
    }
   ],
   "source": [
    "zeros_tensor = torch.zeros(shape)\n",
    "print(zeros_tensor)\n",
    "print(type(zeros_tensor))"
   ]
  },
  {
   "cell_type": "code",
   "execution_count": 54,
   "id": "83082d3e-ebef-4ea7-81be-6ff52266fb42",
   "metadata": {},
   "outputs": [
    {
     "name": "stdout",
     "output_type": "stream",
     "text": [
      "tensor([[0.7662, 0.0429, 0.7482, 0.1534],\n",
      "        [0.0964, 0.0726, 0.1697, 0.8039],\n",
      "        [0.4114, 0.7444, 0.2247, 0.2773]])\n",
      "torch.Size([3, 4])\n",
      "torch.float32\n",
      "cpu\n"
     ]
    }
   ],
   "source": [
    "tensor = torch.rand(3,4)\n",
    "print(tensor)\n",
    "print(tensor.shape)\n",
    "print(tensor.dtype)\n",
    "print(tensor.device)"
   ]
  },
  {
   "cell_type": "code",
   "execution_count": 55,
   "id": "194307aa-a7d4-4b56-94e9-6a824bd0f39d",
   "metadata": {},
   "outputs": [],
   "source": [
    "if torch.cuda.is_available():\n",
    "    tensor = tensor.to('cuda')\n",
    "    print(\"Device tensor is stored in \", tensor.device)"
   ]
  },
  {
   "cell_type": "code",
   "execution_count": 57,
   "id": "610c4164-5751-4658-ab09-a409577fcdc2",
   "metadata": {},
   "outputs": [
    {
     "name": "stdout",
     "output_type": "stream",
     "text": [
      "tensor([[1., 1., 1., 1.],\n",
      "        [1., 1., 1., 1.],\n",
      "        [1., 1., 1., 1.],\n",
      "        [1., 1., 1., 1.]])\n"
     ]
    }
   ],
   "source": [
    "tensor = torch.ones(4,4)\n",
    "print(tensor)\n"
   ]
  },
  {
   "cell_type": "code",
   "execution_count": 58,
   "id": "e2082224-caec-45a4-a204-52de59b0e408",
   "metadata": {},
   "outputs": [
    {
     "name": "stdout",
     "output_type": "stream",
     "text": [
      "tensor([[0., 0., 0., 0.],\n",
      "        [0., 0., 0., 0.],\n",
      "        [0., 0., 0., 0.],\n",
      "        [0., 0., 0., 0.]])\n"
     ]
    }
   ],
   "source": [
    "tensor1 = torch.zeros(4,4)\n",
    "print(tensor1)"
   ]
  },
  {
   "cell_type": "code",
   "execution_count": 59,
   "id": "8d4b607a-9431-4c08-918c-72ec95499aec",
   "metadata": {},
   "outputs": [
    {
     "name": "stdout",
     "output_type": "stream",
     "text": [
      "tensor([[1., 1., 1., 1.],\n",
      "        [1., 1., 1., 1.],\n",
      "        [1., 1., 1., 1.],\n",
      "        [1., 1., 1., 1.],\n",
      "        [0., 0., 0., 0.],\n",
      "        [0., 0., 0., 0.],\n",
      "        [0., 0., 0., 0.],\n",
      "        [0., 0., 0., 0.]])\n"
     ]
    }
   ],
   "source": [
    "tensor2 = torch.cat([tensor,tensor1])\n",
    "print(tensor2)"
   ]
  },
  {
   "cell_type": "code",
   "execution_count": 64,
   "id": "9ee1995a-69cc-44b3-840e-b964d834a60b",
   "metadata": {},
   "outputs": [
    {
     "data": {
      "text/plain": [
       "tensor([[4., 4., 4., 4.],\n",
       "        [4., 4., 4., 4.],\n",
       "        [4., 4., 4., 4.],\n",
       "        [4., 4., 4., 4.]])"
      ]
     },
     "execution_count": 64,
     "metadata": {},
     "output_type": "execute_result"
    }
   ],
   "source": [
    "tensor.mul(tensor1)\n",
    "tensor * tensor1\n",
    "tensor.T"
   ]
  },
  {
   "cell_type": "code",
   "execution_count": 65,
   "id": "003e71c4-67ea-443b-a2bb-01e706ceba6e",
   "metadata": {},
   "outputs": [
    {
     "name": "stdout",
     "output_type": "stream",
     "text": [
      "tensor([[7., 7., 7., 7.],\n",
      "        [7., 7., 7., 7.],\n",
      "        [7., 7., 7., 7.],\n",
      "        [7., 7., 7., 7.]])\n"
     ]
    }
   ],
   "source": [
    "tensor.add_(3)\n",
    "print(tensor)"
   ]
  },
  {
   "cell_type": "code",
   "execution_count": 66,
   "id": "04788d86-ffe3-43e9-868b-a673ff2e2241",
   "metadata": {},
   "outputs": [
    {
     "name": "stdout",
     "output_type": "stream",
     "text": [
      "tensor([1., 1., 1., 1., 1.])\n"
     ]
    }
   ],
   "source": [
    "t = torch.ones(5)\n",
    "print(t)"
   ]
  },
  {
   "cell_type": "code",
   "execution_count": 67,
   "id": "f4166a57-29f9-42c7-898a-5e14bba4254b",
   "metadata": {},
   "outputs": [
    {
     "name": "stdout",
     "output_type": "stream",
     "text": [
      "[1. 1. 1. 1. 1.]\n",
      "<class 'numpy.ndarray'>\n"
     ]
    }
   ],
   "source": [
    "n = t.numpy()\n",
    "print(n)\n",
    "print(type(n))"
   ]
  },
  {
   "cell_type": "code",
   "execution_count": null,
   "id": "f1fb3bce-d06d-416d-b801-beeb7fdf5f4d",
   "metadata": {},
   "outputs": [],
   "source": []
  }
 ],
 "metadata": {
  "kernelspec": {
   "display_name": "Python 3 (ipykernel)",
   "language": "python",
   "name": "python3"
  },
  "language_info": {
   "codemirror_mode": {
    "name": "ipython",
    "version": 3
   },
   "file_extension": ".py",
   "mimetype": "text/x-python",
   "name": "python",
   "nbconvert_exporter": "python",
   "pygments_lexer": "ipython3",
   "version": "3.12.1"
  }
 },
 "nbformat": 4,
 "nbformat_minor": 5
}
